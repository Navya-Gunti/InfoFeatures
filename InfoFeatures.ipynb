{
  "nbformat": 4,
  "nbformat_minor": 0,
  "metadata": {
    "colab": {
      "name": "InfoFeatures.ipynb",
      "provenance": [],
      "collapsed_sections": []
    },
    "kernelspec": {
      "name": "python3",
      "display_name": "Python 3"
    },
    "language_info": {
      "name": "python"
    }
  },
  "cells": [
    {
      "cell_type": "markdown",
      "source": [
        "**4.\n",
        " ☼ Using the movie review document classifier discussed in this chapter, generate a list of the 30 features that the classifier finds to be most informative. Can you explain why these particular features are informative? Do you find any of them surprising?**"
      ],
      "metadata": {
        "id": "GGWZGyQxOORj"
      }
    },
    {
      "cell_type": "code",
      "source": [
        "from google.colab import drive\n",
        "drive.mount('/gdrive')"
      ],
      "metadata": {
        "colab": {
          "base_uri": "https://localhost:8080/"
        },
        "id": "gNc7j42sQfi3",
        "outputId": "5544fac7-412f-428c-e9d0-5316ce18d70e"
      },
      "execution_count": null,
      "outputs": [
        {
          "output_type": "stream",
          "name": "stdout",
          "text": [
            "Mounted at /gdrive\n"
          ]
        }
      ]
    },
    {
      "cell_type": "code",
      "source": [
        "#import the required libraries\n",
        "import nltk\n",
        "nltk.download('movie_reviews')\n",
        "from nltk.corpus import movie_reviews\n",
        "import random\n"
      ],
      "metadata": {
        "colab": {
          "base_uri": "https://localhost:8080/"
        },
        "id": "oANvKG8qFo-O",
        "outputId": "70579345-65af-4d60-b8c0-80ce0dc6ce2f"
      },
      "execution_count": null,
      "outputs": [
        {
          "output_type": "stream",
          "name": "stdout",
          "text": [
            "[nltk_data] Downloading package movie_reviews to /root/nltk_data...\n",
            "[nltk_data]   Package movie_reviews is already up-to-date!\n"
          ]
        }
      ]
    },
    {
      "cell_type": "code",
      "execution_count": null,
      "metadata": {
        "id": "Y6Hc-ZtTERZN"
      },
      "outputs": [],
      "source": [
        "docs = [(list(movie_reviews.words(fileid)), category)\n",
        "             for category in movie_reviews.categories()\n",
        "             for fileid in movie_reviews.fileids(category)]\n",
        "\n",
        "#The shuffle() method takes a sequence, like a list, and reorganize the order of the items.\n",
        "random.shuffle(docs)\n"
      ]
    },
    {
      "cell_type": "code",
      "source": [
        "#NLTK in python has a function FreqDist which gives you the frequency of words within a text\n",
        "totalWords = nltk.FreqDist(w.lower() for w in movie_reviews.words())\n",
        "wFeature = list(totalWords)[:2000]\n",
        "\n",
        "def dFeatures(document):\n",
        "    docWords = set(document)\n",
        "    features = {}\n",
        "    for word in wFeature:\n",
        "        features['contains({})'.format(word)] = (word in docWords)\n",
        "    return features"
      ],
      "metadata": {
        "id": "r5r0Z3_oG9C1"
      },
      "execution_count": null,
      "outputs": []
    },
    {
      "cell_type": "code",
      "source": [
        "print(totalWords)"
      ],
      "metadata": {
        "colab": {
          "base_uri": "https://localhost:8080/"
        },
        "id": "Py5LU7K8LG6_",
        "outputId": "635fb27d-a3e4-4549-81d7-8b6ff72b2799"
      },
      "execution_count": null,
      "outputs": [
        {
          "output_type": "stream",
          "name": "stdout",
          "text": [
            "<FreqDist with 39768 samples and 1583820 outcomes>\n"
          ]
        }
      ]
    },
    {
      "cell_type": "code",
      "source": [
        "print(wFeature)"
      ],
      "metadata": {
        "colab": {
          "base_uri": "https://localhost:8080/"
        },
        "id": "ZaPhQyWtKyYg",
        "outputId": "e9cc0b62-2813-4a60-e4f3-3d8437b02a77"
      },
      "execution_count": null,
      "outputs": [
        {
          "output_type": "stream",
          "name": "stdout",
          "text": [
            "['plot', ':', 'two', 'teen', 'couples', 'go', 'to', 'a', 'church', 'party', ',', 'drink', 'and', 'then', 'drive', '.', 'they', 'get', 'into', 'an', 'accident', 'one', 'of', 'the', 'guys', 'dies', 'but', 'his', 'girlfriend', 'continues', 'see', 'him', 'in', 'her', 'life', 'has', 'nightmares', 'what', \"'\", 's', 'deal', '?', 'watch', 'movie', '\"', 'sorta', 'find', 'out', 'critique', 'mind', '-', 'fuck', 'for', 'generation', 'that', 'touches', 'on', 'very', 'cool', 'idea', 'presents', 'it', 'bad', 'package', 'which', 'is', 'makes', 'this', 'review', 'even', 'harder', 'write', 'since', 'i', 'generally', 'applaud', 'films', 'attempt', 'break', 'mold', 'mess', 'with', 'your', 'head', 'such', '(', 'lost', 'highway', '&', 'memento', ')', 'there', 'are', 'good', 'ways', 'making', 'all', 'types', 'these', 'folks', 'just', 'didn', 't', 'snag', 'correctly', 'seem', 'have', 'taken', 'pretty', 'neat', 'concept', 'executed', 'terribly', 'so', 'problems', 'well', 'its', 'main', 'problem', 'simply', 'too', 'jumbled', 'starts', 'off', 'normal', 'downshifts', 'fantasy', 'world', 'you', 'as', 'audience', 'member', 'no', 'going', 'dreams', 'characters', 'coming', 'back', 'from', 'dead', 'others', 'who', 'look', 'like', 'strange', 'apparitions', 'disappearances', 'looooot', 'chase', 'scenes', 'tons', 'weird', 'things', 'happen', 'most', 'not', 'explained', 'now', 'personally', 'don', 'trying', 'unravel', 'film', 'every', 'when', 'does', 'give', 'me', 'same', 'clue', 'over', 'again', 'kind', 'fed', 'up', 'after', 'while', 'biggest', 'obviously', 'got', 'big', 'secret', 'hide', 'seems', 'want', 'completely', 'until', 'final', 'five', 'minutes', 'do', 'make', 'entertaining', 'thrilling', 'or', 'engaging', 'meantime', 'really', 'sad', 'part', 'arrow', 'both', 'dig', 'flicks', 'we', 'actually', 'figured', 'by', 'half', 'way', 'point', 'strangeness', 'did', 'start', 'little', 'bit', 'sense', 'still', 'more', 'guess', 'bottom', 'line', 'movies', 'should', 'always', 'sure', 'before', 'given', 'password', 'enter', 'understanding', 'mean', 'showing', 'melissa', 'sagemiller', 'running', 'away', 'visions', 'about', '20', 'throughout', 'plain', 'lazy', '!', 'okay', 'people', 'chasing', 'know', 'need', 'how', 'giving', 'us', 'different', 'offering', 'further', 'insight', 'down', 'apparently', 'studio', 'took', 'director', 'chopped', 'themselves', 'shows', 'might', 've', 'been', 'decent', 'here', 'somewhere', 'suits', 'decided', 'turning', 'music', 'video', 'edge', 'would', 'actors', 'although', 'wes', 'bentley', 'seemed', 'be', 'playing', 'exact', 'character', 'he', 'american', 'beauty', 'only', 'new', 'neighborhood', 'my', 'kudos', 'holds', 'own', 'entire', 'feeling', 'unraveling', 'overall', 'doesn', 'stick', 'because', 'entertain', 'confusing', 'rarely', 'excites', 'feels', 'redundant', 'runtime', 'despite', 'ending', 'explanation', 'craziness', 'came', 'oh', 'horror', 'slasher', 'flick', 'packaged', 'someone', 'assuming', 'genre', 'hot', 'kids', 'also', 'wrapped', 'production', 'years', 'ago', 'sitting', 'shelves', 'ever', 'whatever', 'skip', 'where', 'joblo', 'nightmare', 'elm', 'street', '3', '7', '/', '10', 'blair', 'witch', '2', 'crow', '9', 'salvation', '4', 'stir', 'echoes', '8', 'happy', 'bastard', 'quick', 'damn', 'y2k', 'bug', 'starring', 'jamie', 'lee', 'curtis', 'another', 'baldwin', 'brother', 'william', 'time', 'story', 'regarding', 'crew', 'tugboat', 'comes', 'across', 'deserted', 'russian', 'tech', 'ship', 'kick', 'power', 'within', 'gore', 'bringing', 'few', 'action', 'sequences', 'virus', 'empty', 'flash', 'substance', 'why', 'was', 'middle', 'nowhere', 'origin', 'pink', 'flashy', 'thing', 'hit', 'mir', 'course', 'donald', 'sutherland', 'stumbling', 'around', 'drunkenly', 'hey', 'let', 'some', 'robots', 'acting', 'below', 'average', 'likes', 're', 'likely', 'work', 'halloween', 'h20', 'wasted', 'real', 'star', 'stan', 'winston', 'robot', 'design', 'schnazzy', 'cgi', 'occasional', 'shot', 'picking', 'brain', 'if', 'body', 'parts', 'turn', 'otherwise', 'much', 'sunken', 'jaded', 'viewer', 'thankful', 'invention', 'timex', 'indiglo', 'based', 'late', '1960', 'television', 'show', 'name', 'mod', 'squad', 'tells', 'tale', 'three', 'reformed', 'criminals', 'under', 'employ', 'police', 'undercover', 'however', 'wrong', 'evidence', 'gets', 'stolen', 'immediately', 'suspicion', 'ads', 'cuts', 'claire', 'dane', 'nice', 'hair', 'cute', 'outfits', 'car', 'chases', 'stuff', 'blowing', 'sounds', 'first', 'fifteen', 'quickly', 'becomes', 'apparent', 'certainly', 'slick', 'looking', 'complete', 'costumes', 'isn', 'enough', 'best', 'described', 'cross', 'between', 'hour', 'long', 'cop', 'stretched', 'span', 'single', 'clich', 'matter', 'elements', 'recycled', 'everything', 'already', 'seen', 'nothing', 'spectacular', 'sometimes', 'bordering', 'wooden', 'danes', 'omar', 'epps', 'deliver', 'their', 'lines', 'bored', 'transfers', 'onto', 'escape', 'relatively', 'unscathed', 'giovanni', 'ribisi', 'plays', 'resident', 'crazy', 'man', 'ultimately', 'being', 'worth', 'watching', 'unfortunately', 'save', 'convoluted', 'apart', 'occupying', 'screen', 'young', 'cast', 'clothes', 'hip', 'soundtrack', 'appears', 'geared', 'towards', 'teenage', 'mindset', 'r', 'rating', 'content', 'justify', 'juvenile', 'older', 'information', 'literally', 'spoon', 'hard', 'instead', 'telling', 'dialogue', 'poorly', 'written', 'extremely', 'predictable', 'progresses', 'won', 'care', 'heroes', 'any', 'jeopardy', 'll', 'aren', 'basing', 'nobody', 'remembers', 'questionable', 'wisdom', 'especially', 'considers', 'target', 'fact', 'number', 'memorable', 'can', 'counted', 'hand', 'missing', 'finger', 'times', 'checked', 'six', 'clear', 'indication', 'them', 'than', 'cash', 'spending', 'dollar', 'judging', 'rash', 'awful', 'seeing', 'avoid', 'at', 'costs', 'quest', 'camelot', 'warner', 'bros', 'feature', 'length', 'fully', 'animated', 'steal', 'clout', 'disney', 'cartoon', 'empire', 'mouse', 'reason', 'worried', 'other', 'recent', 'challenger', 'throne', 'last', 'fall', 'promising', 'flawed', '20th', 'century', 'fox', 'anastasia', 'hercules', 'lively', 'colorful', 'palate', 'had', 'beat', 'hands', 'crown', '1997', 'piece', 'animation', 'year', 'contest', 'arrival', 'magic', 'kingdom', 'mediocre', '--', 'd', 'pocahontas', 'those', 'keeping', 'score', 'nearly', 'dull', 'revolves', 'adventures', 'free', 'spirited', 'kayley', 'voiced', 'jessalyn', 'gilsig', 'early', 'daughter', 'belated', 'knight', 'king', 'arthur', 'round', 'table', 'dream', 'follow', 'father', 'footsteps', 'she', 'chance', 'evil', 'warlord', 'ruber', 'gary', 'oldman', 'ex', 'gone', 'steals', 'magical', 'sword', 'excalibur', 'accidentally', 'loses', 'dangerous', 'booby', 'trapped', 'forest', 'help', 'hunky', 'blind', 'timberland', 'dweller', 'garrett', 'carey', 'elwes', 'headed', 'dragon', 'eric', 'idle', 'rickles', 'arguing', 'itself', 'able', 'medieval', 'sexist', 'prove', 'fighter', 'side', 'pure', 'showmanship', 'essential', 'element', 'expected', 'climb', 'high', 'ranks', 'differentiates', 'something', 'saturday', 'morning', 'subpar', 'instantly', 'forgettable', 'songs', 'integrated', 'computerized', 'footage', 'compare', 'run', 'angry', 'ogre', 'herc', 'battle', 'hydra', 'rest', 'case', 'stink', 'none', 'remotely', 'interesting', 'race', 'bland', 'end', 'tie', 'win', 'comedy', 'shtick', 'awfully', 'cloying', 'least', 'signs', 'pulse', 'fans', \"-'\", '90s', 'tgif', 'will', 'thrilled', 'jaleel', 'urkel', 'white', 'bronson', 'balki', 'pinchot', 'sharing', 'nicely', 'realized', 'though', 'm', 'loss', 'recall', 'specific', 'providing', 'voice', 'talent', 'enthusiastic', 'paired', 'singers', 'sound', 'musical', 'moments', 'jane', 'seymour', 'celine', 'dion', 'must', 'strain', 'through', 'aside', 'children', 'probably', 'adults', 'grievous', 'error', 'lack', 'personality', 'learn', 'goes', 'synopsis', 'mentally', 'unstable', 'undergoing', 'psychotherapy', 'saves', 'boy', 'potentially', 'fatal', 'falls', 'love', 'mother', 'fledgling', 'restauranteur', 'unsuccessfully', 'attempting', 'gain', 'woman', 'favor', 'takes', 'pictures', 'kills', 'comments', 'stalked', 'yet', 'seemingly', 'endless', 'string', 'spurned', 'psychos', 'getting', 'revenge', 'type', 'stable', 'category', '1990s', 'industry', 'theatrical', 'direct', 'proliferation', 'may', 'due', 'typically', 'inexpensive', 'produce', 'special', 'effects', 'stars', 'serve', 'vehicles', 'nudity', 'allowing', 'frequent', 'night', 'cable', 'wavers', 'slightly', 'norm', 'respect', 'psycho', 'never', 'affair', ';', 'contrary', 'rejected', 'rather', 'lover', 'wife', 'husband', 'entry', 'doomed', 'collect', 'dust', 'viewed', 'midnight', 'provide', 'suspense', 'sets', 'interspersed', 'opening', 'credits', 'instance', 'serious', 'sounding', 'narrator', 'spouts', 'statistics', 'stalkers', 'ponders', 'cause', 'stalk', 'implicitly', 'implied', 'men', 'shown', 'snapshot', 'actor', 'jay', 'underwood', 'states', 'daryl', 'gleason', 'stalker', 'brooke', 'daniels', 'meant', 'called', 'guesswork', 'required', 'proceeds', 'begins', 'obvious', 'sequence', 'contrived', 'quite', 'brings', 'victim', 'together', 'obsesses', 'follows', 'tries', 'woo', 'plans', 'become', 'desperate', 'elaborate', 'include', 'cliche', 'murdered', 'pet', 'require', 'found', 'exception', 'cat', 'shower', 'events', 'lead', 'inevitable', 'showdown', 'survives', 'invariably', 'conclusion', 'turkey', 'uniformly', 'adequate', 'anything', 'home', 'either', 'turns', 'toward', 'melodrama', 'overdoes', 'words', 'manages', 'creepy', 'pass', 'demands', 'maryam', 'abo', 'close', 'played', 'bond', 'chick', 'living', 'daylights', 'equally', 'title', 'ditzy', 'strong', 'independent', 'business', 'owner', 'needs', 'proceed', 'example', 'suspicions', 'ensure', 'use', 'excuse', 'decides', 'return', 'toolbox', 'left', 'place', 'house', 'leave', 'door', 'answers', 'opens', 'wanders', 'returns', 'enters', 'our', 'heroine', 'danger', 'somehow', 'parked', 'front', 'right', 'oblivious', 'presence', 'inside', 'whole', 'episode', 'places', 'incredible', 'suspension', 'disbelief', 'questions', 'validity', 'intelligence', 'receives', 'highly', 'derivative', 'somewhat', 'boring', 'cannot', 'watched', 'rated', 'mostly', 'several', 'murder', 'brief', 'strip', 'bar', 'offensive', 'many', 'thrillers', 'mood', 'stake', 'else', 'capsule', '2176', 'planet', 'mars', 'taking', 'custody', 'accused', 'murderer', 'face', 'menace', 'lot', 'fighting', 'john', 'carpenter', 'reprises', 'ideas', 'previous', 'assault', 'precinct', '13', 'homage', 'himself', '0', '+', 'believes', 'fight', 'horrible', 'writer', 'supposedly', 'expert', 'mistake', 'ghosts', 'drawn', 'humans', 'surprisingly', 'low', 'powered', 'alien', 'addition', 'anybody', 'made', 'grounds', 'sue', 'chock', 'full', 'pieces', 'prince', 'darkness', 'surprising', 'managed', 'fit', 'admittedly', 'novel', 'science', 'fiction', 'experience', 'terraformed', 'walk', 'surface', 'without', 'breathing', 'gear', 'budget', 'mentioned', 'gravity', 'increased', 'earth', 'easier', 'society', 'changed', 'advanced', 'culture', 'women', 'positions', 'control', 'view', 'stagnated', 'female', 'beyond', 'minor', 'technological', 'advances', 'less', '175', 'expect', 'change', 'ten', 'basic', 'common', 'except', 'yes', 'replaced', 'tacky', 'rundown', 'martian', 'mining', 'colony', 'having', 'criminal', 'napolean', 'wilson', 'desolation', 'williams', 'facing', 'hoodlums', 'automatic', 'weapons', 'nature', 'behave', 'manner', 'essentially', 'human', 'savages', 'lapse', 'imagination', 'told', 'flashback', 'entirely', 'filmed', 'almost', 'tones', 'red', 'yellow', 'black', 'powerful', 'scene', 'train', 'rushing', 'heavy', 'sadly', 'buildup', 'terror', 'creates', 'looks', 'fugitive', 'wannabes', 'rock', 'band', 'kiss', 'building', 'bunch', 'sudden', 'jump', 'sucker', 'thinking', 'scary', 'happening', 'standard', 'haunted', 'shock', 'great', 'newer', 'unimpressive', 'digital', 'decapitations', 'fights', 'short', 'stretch', 'release', 'mission', 'panned', 'reviewers', 'better', 'rate', 'scale', 'following', 'showed', 'liked', 'moderately', 'classic', 'comment', 'twice', 'ask', 'yourself', '8mm', 'eight', 'millimeter', 'wholesome', 'surveillance', 'sight', 'values', 'becoming', 'enmeshed', 'seedy', 'sleazy', 'underworld', 'hardcore', 'pornography', 'bubbling', 'beneath', 'town', 'americana', 'sordid', 'sick', 'depraved', 'necessarily', 'stop', 'order', 'satisfy', 'twisted', 'desires', 'position', 'influence', 'kinds', 'demented', 'talking', 'snuff', 'supposed', 'documentaries', 'victims', 'brutalized', 'killed', 'camera', 'joel', 'schumacher', 'credit', 'batman', 'robin', 'kill', 'forever', 'client', 'thirds', 'unwind', 'fairly', 'conventional', 'persons', 'drama', 'albeit', 'particularly', 'unsavory', 'core', 'threatening', 'along', 'explodes', 'violence', 'think', 'finally', 'tags', 'ridiculous', 'self', 'righteous', 'finale', 'drags', 'unpleasant', 'trust', 'waste', 'hours', 'nicolas', 'snake', 'eyes', 'cage', 'private', 'investigator', 'tom', 'welles', 'hired', 'wealthy', 'philadelphia', 'widow', 'determine', 'whether', 'reel', 'safe', 'documents', 'girl', 'assignment', 'factly', 'puzzle', 'neatly', 'specialized', 'skills', 'training', 'easy', 'cops', 'toilet', 'tanks', 'clues', 'deeper', 'digs', 'investigation', 'obsessed', 'george', 'c', 'scott', 'paul', 'schrader', 'occasionally', 'flickering', 'whirs', 'sprockets', 'winding', 'projector', 'reminding', 'task', 'hints', 'toll', 'lovely', 'catherine', 'keener', 'frustrated', 'cleveland', 'ugly', 'split', 'level', 'harrisburg', 'pa', 'condemn', 'condone', 'subject', 'exploits', 'irony', 'seven', 'scribe', 'andrew', 'kevin', 'walker', 'vision', 'lane', 'limited', 'hollywood', 'product', 'snippets', 'covering', 'later', 'joaquin', 'phoenix', 'far', 'adult', 'bookstore', 'flunky', 'max', 'california', 'cover', 'horrid', 'screened', 'familiar', 'revelation', 'sexual', 'deviants', 'indeed', 'monsters', 'everyday', 'neither', 'super', 'nor', 'shocking', 'banality', 'exactly', 'felt', 'weren', 'nine', 'laughs', 'months', 'terrible', 'mr', 'hugh', 'grant', 'huge', 'dork', 'oral', 'sex', 'prostitution', 'referring', 'bugs', 'annoying', 'adam', 'sandler', 'jim', 'carrey', 'eye', 'flutters', 'nervous', 'smiles', 'slapstick', 'fistfight', 'delivery', 'room', 'culminating', 'joan', 'cusack', 'lap', 'paid', '$', '60', 'included', 'obscene', 'double', 'entendres', 'obstetrician', 'pregnant', 'pussy', 'size', 'hairs', 'coat', 'nonetheless', 'exchange', 'cookie', 'cutter', 'originality', 'humor', 'successful', 'child', 'psychiatrist', 'psychologist', 'scriptwriters', 'could', 'inject', 'unfunny', 'kid', 'dad', 'asshole', 'eyelashes', 'offers', 'smile', 'responds', 'english', 'accent', 'attitude', 'possibly', '_huge_', 'beside', 'includes', 'needlessly', 'stupid', 'jokes', 'olds', 'everyone', 'shakes', 'anyway', 'finds', 'usual', 'reaction', 'fluttered', 'paves', 'possible', 'pregnancy', 'birth', 'gag', 'book', 'friend', 'arnold', 'provides', 'cacophonous', 'funny', 'beats', 'costumed', 'arnie', 'dinosaur', 'draw', 'parallels', 'toy', 'store', 'jeff', 'goldblum', 'hid', 'dreadful', 'hideaway', 'artist', 'fear', 'simultaneous', 'longing', 'commitment', 'doctor', 'recently', 'switch', 'veterinary', 'medicine', 'obstetrics', 'joke', 'old', 'foreign', 'guy', 'mispronounces', 'stereotype', 'say', 'yakov', 'smirnov', 'favorite', 'vodka', 'hence', 'take', 'volvo', 'nasty', 'unamusing', 'heads', 'simultaneously', 'groan', 'failure', 'loud', 'failed', 'uninspired', 'lunacy', 'sunset', 'boulevard', 'arrest', 'please', 'caught', 'pants', 'bring', 'theaters', 'faces', '90', 'forced', 'unauthentic', 'anyone', 'q', '80', 'sorry', 'money', 'unfulfilled', 'desire', 'spend', 'bucks', 'call', 'road', 'trip', 'walking', 'wounded', 'stellan', 'skarsg', 'rd', 'convincingly', 'zombified', 'drunken', 'loser', 'difficult', 'smelly', 'boozed', 'reliable', 'swedish', 'adds', 'depth', 'significance', 'plodding', 'aberdeen', 'sentimental', 'painfully', 'mundane', 'european', 'playwright', 'august', 'strindberg', 'built', 'career', 'families', 'relationships', 'paralyzed', 'secrets', 'unable', 'express', 'longings', 'accurate', 'reflection', 'strives', 'focusing', 'pairing', 'alcoholic', 'tomas', 'alienated', 'openly', 'hostile', 'yuppie', 'kaisa', 'lena', 'headey', 'gossip', 'haven', 'spoken', 'wouldn', 'norway', 'scotland', 'automobile', 'charlotte', 'rampling', 'sand', 'rotting', 'hospital', 'bed', 'cancer', 'soap', 'opera', 'twist', 'days', 'live', 'blitzed', 'step', 'foot', 'plane', 'hits', 'open', 'loathing', 'each', 'periodic', 'stops', 'puke', 'dashboard', 'whenever', 'muttering', 'rotten', 'turned', 'sloshed', 'viewpoint', 'recognizes', 'apple', 'hasn', 'fallen', 'tree', 'nosebleeds', 'snorting', 'coke', 'sabotages', 'personal', 'indifference', 'restrain', 'vindictive', 'temper', 'ain', 'pair', 'true', 'notes', 'unspoken', 'familial', 'empathy', 'note', 'repetitively', 'bitchy', 'screenwriters', 'kristin', 'amundsen', 'hans', 'petter', 'moland', 'fabricate', 'series', 'contrivances', 'propel', 'forward', 'roving', 'hooligans', 'drunks', 'nosy', 'flat', 'tires', 'figure', 'schematic', 'convenient', 'narrative', 'reach', 'unveil', 'dark', 'past', 'simplistic', 'devices', 'trivialize', 'conflict', 'mainstays', 'wannabe', 'exists', 'purely', 'sake', 'weak', 'unimaginative', 'casting', 'thwarts', 'pivotal', 'role', 'were', 'stronger', 'actress', 'perhaps', 'coast', 'performances', 'moody', 'haunting', 'cinematography', 'rendering', 'pastoral', 'ghost', 'reference', 'certain', 'superior', 'indie', 'intentional', 'busy', 'using', 'furrowed', 'brow', 'convey', 'twitch', 'insouciance', 'paying', 'attention', 'maybe', 'doing', 'reveal', 'worthwhile', 'earlier', 'released', '2001', 'jonathan', 'nossiter', 'captivating', 'wonders', 'disturbed', 'parental', 'figures', 'bound', 'ceremonial', 'wedlock', 'differences', 'presented', 'significant', 'luminous', 'diva', 'preening', 'static', 'solid', 'performance', 'pathetic', 'drunk', 'emote', 'besides', 'catatonic', 'sorrow', 'genuine', 'ferocity', 'sexually', 'charged', 'frisson', 'during', 'understated', 'confrontations', 'suggest', 'gray', 'zone', 'complications', 'accompany', 'torn', 'romance', 'stifled', 'curiosity', 'thoroughly', 'explores', 'neurotic', 'territory', 'delving', 'americanization', 'greece', 'mysticism', 'illusion', 'deflect', 'pain', 'overloaded', 'willing', 'come', 'traditional', 'ambitious', 'sleepwalk', 'rhythms', 'timing', 'driven', 'stories', 'complexities', 'depressing', 'answer', 'lawrence', 'kasdan', 'trite', 'useful', 'grand', 'canyon', 'steve', 'martin', 'mogul', 'pronounces', 'riddles', 'answered', 'advice', 'heart', 'french', 'sees', 'parents', 'tim', 'roth', 'oops', 'vows', 'taught', 'musketeer', 'dude', 'used', 'fourteen', 'arrgh', 'swish', 'zzzzzzz', 'original', 'lacks', 'energy', 'next', 'hmmmm', 'justin', 'chambers', 'basically', 'uncharismatic', 'version', 'chris', 'o', 'donnell', 'range', 'mena', 'suvari', 'thora', 'birch', 'dungeons', 'dragons', 'miscast', 'deliveries', 'piss', 'poor', 'ms', 'fault', 'definitely', 'higher', 'semi', 'saving', 'grace', 'wise', 'irrepressible', 'once', 'thousand', 'god', 'beg', 'agent', 'marketplace', 'modern', 'day', 'roles', 'romantic', 'gunk', 'alright', 'yeah', 'yikes', 'notches', 'fellas', 'blares', 'ear', 'accentuate', 'annoy', 'important', 'behind', 'recognize', 'epic', 'fluffy', 'rehashed', 'cake', 'created', 'shrewd', 'advantage', 'kung', 'fu', 'phenomenon', 'test', 'dudes', 'keep', 'reading', 'editing', 'shoddy', 'banal', 'stilted', 'plentiful', 'top', 'horse', 'carriage', 'stand', 'opponent', 'scampering', 'cut', 'mouseketeer', 'rope', 'tower', 'jumping', 'chords', 'hanging', 'says', '14', 'shirt', 'strayed', 'championing', 'fun', 'stretches', 'atrocious', 'lake', 'reminded', 'school', 'cringe', 'musketeers', 'fat', 'raison', 'etre', 'numbers', 'hoping', 'packed', 'stuntwork', 'promoted', 'trailer', 'major', 'swashbuckling', 'beginning', 'finishes', 'juggling', 'ladders', 'ladder', 'definite', 'keeper', 'regurgitated', 'crap', 'tell', 'deneuve', 'placed', 'hullo', 'barely', 'ugh', 'small', 'annoyed', 'trash', 'gang', 'vow', 'stay', 'thank', 'outlaws', '5', 'crouching', 'tiger', 'hidden', 'matrix', 'replacement', 'killers', '6', 'romeo', 'die', 'shanghai', 'noon', 'remembered', 'dr', 'hannibal', 'lecter', 'michael', 'mann', 'forensics', 'thriller', 'manhunter', 'scottish', 'brian', 'cox']\n"
          ]
        }
      ]
    },
    {
      "cell_type": "code",
      "source": [
        "setOfFeatures = [(dFeatures(d), c) for (d, c) in docs]\n",
        "train_set, test_set = setOfFeatures[100:], setOfFeatures[:100]\n",
        "\n",
        "#Naive Bayes classifier is one of the text classifiers in the NLTK.\n",
        "classifier = nltk.NaiveBayesClassifier.train(train_set)"
      ],
      "metadata": {
        "id": "J7OKs7MMHA6u"
      },
      "execution_count": null,
      "outputs": []
    },
    {
      "cell_type": "code",
      "source": [
        "#show_most_informative_features() is very helpfull in debugging features, here we retrieve 30features\n",
        "classifier.show_most_informative_features(30) \n"
      ],
      "metadata": {
        "colab": {
          "base_uri": "https://localhost:8080/"
        },
        "id": "U77u1_iTHFw8",
        "outputId": "af6513d2-1cf7-4968-f646-0217f049c058"
      },
      "execution_count": null,
      "outputs": [
        {
          "output_type": "stream",
          "name": "stdout",
          "text": [
            "Most Informative Features\n",
            "           contains(ugh) = True              neg : pos    =      8.9 : 1.0\n",
            "       contains(martian) = True              neg : pos    =      7.6 : 1.0\n",
            "    contains(schumacher) = True              neg : pos    =      7.4 : 1.0\n",
            "     contains(atrocious) = True              neg : pos    =      7.0 : 1.0\n",
            "          contains(mena) = True              neg : pos    =      7.0 : 1.0\n",
            "        contains(suvari) = True              neg : pos    =      7.0 : 1.0\n",
            "        contains(turkey) = True              neg : pos    =      6.5 : 1.0\n",
            "       contains(singers) = True              pos : neg    =      6.4 : 1.0\n",
            "     contains(stretched) = True              neg : pos    =      6.2 : 1.0\n",
            "        contains(shoddy) = True              neg : pos    =      5.6 : 1.0\n",
            " contains(unimaginative) = True              neg : pos    =      5.6 : 1.0\n",
            "  contains(surveillance) = True              neg : pos    =      5.6 : 1.0\n",
            "       contains(bronson) = True              neg : pos    =      5.6 : 1.0\n",
            "     contains(underwood) = True              neg : pos    =      5.6 : 1.0\n",
            "         contains(awful) = True              neg : pos    =      5.6 : 1.0\n",
            "      contains(everyday) = True              pos : neg    =      5.5 : 1.0\n",
            "        contains(wasted) = True              neg : pos    =      5.5 : 1.0\n",
            "        contains(justin) = True              neg : pos    =      5.4 : 1.0\n",
            "      contains(explores) = True              pos : neg    =      5.3 : 1.0\n",
            "         contains(waste) = True              neg : pos    =      5.1 : 1.0\n",
            "       contains(unravel) = True              pos : neg    =      5.0 : 1.0\n",
            "          contains(oops) = True              neg : pos    =      5.0 : 1.0\n",
            "        contains(canyon) = True              neg : pos    =      5.0 : 1.0\n",
            "        contains(welles) = True              neg : pos    =      5.0 : 1.0\n",
            "    contains(ridiculous) = True              neg : pos    =      4.8 : 1.0\n",
            "        contains(poorly) = True              neg : pos    =      4.8 : 1.0\n",
            "         contains(kudos) = True              pos : neg    =      4.7 : 1.0\n",
            "       contains(unfunny) = True              neg : pos    =      4.7 : 1.0\n",
            "        contains(sexist) = True              neg : pos    =      4.6 : 1.0\n",
            "         contains(groan) = True              neg : pos    =      4.6 : 1.0\n"
          ]
        }
      ]
    },
    {
      "cell_type": "code",
      "source": [
        "%%shell\n",
        "jupyter nbconvert --to html /content/drive/MyDrive/BigData/InfoFeatures.ipynb"
      ],
      "metadata": {
        "colab": {
          "base_uri": "https://localhost:8080/"
        },
        "id": "lLdcgmhlNWTk",
        "outputId": "82a8e826-8b5c-4852-f6ac-041a842bb055"
      },
      "execution_count": null,
      "outputs": [
        {
          "output_type": "stream",
          "name": "stdout",
          "text": [
            "[NbConvertApp] Converting notebook /content/drive/MyDrive/BigData/InfoFeatures.ipynb to html\n",
            "[NbConvertApp] Writing 322326 bytes to /content/drive/MyDrive/BigData/InfoFeatures.html\n"
          ]
        },
        {
          "output_type": "execute_result",
          "data": {
            "text/plain": [
              ""
            ]
          },
          "metadata": {},
          "execution_count": 6
        }
      ]
    }
  ]
}